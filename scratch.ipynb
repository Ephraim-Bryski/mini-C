{
 "cells": [
  {
   "cell_type": "code",
   "execution_count": 3,
   "metadata": {},
   "outputs": [
    {
     "name": "stdout",
     "output_type": "stream",
     "text": [
      "['0x00', '0xff', '0x10', '0xa5']\n"
     ]
    }
   ],
   "source": [
    "def bytes_to_hex_array(byte_data):\n",
    "    return [f'0x{byte:02x}' for byte in byte_data]\n",
    "\n",
    "# Example usage\n",
    "byte_data = b'\\x00\\xFF\\x10\\xA5'\n",
    "hex_array = bytes_to_hex_array(byte_data)\n",
    "print(hex_array)\n"
   ]
  },
  {
   "cell_type": "code",
   "execution_count": 3,
   "metadata": {},
   "outputs": [
    {
     "data": {
      "text/plain": [
       "'\\x82'"
      ]
     },
     "execution_count": 3,
     "metadata": {},
     "output_type": "execute_result"
    }
   ],
   "source": [
    "chr(ord('a')+33)"
   ]
  },
  {
   "cell_type": "code",
   "execution_count": 9,
   "metadata": {},
   "outputs": [
    {
     "data": {
      "text/plain": [
       "'þ'"
      ]
     },
     "execution_count": 9,
     "metadata": {},
     "output_type": "execute_result"
    }
   ],
   "source": [
    "chr(254)"
   ]
  },
  {
   "cell_type": "code",
   "execution_count": null,
   "metadata": {},
   "outputs": [],
   "source": [
    "6,16,24"
   ]
  },
  {
   "cell_type": "code",
   "execution_count": 10,
   "metadata": {},
   "outputs": [
    {
     "name": "stdout",
     "output_type": "stream",
     "text": [
      "_!A9aaf9daebf937b3e184724694b81a5ba1f99b2e6e3a6ee19fe9c0556f9a8cf43\n"
     ]
    }
   ],
   "source": [
    "import hashlib\n",
    "print(\"_!A\"+hashlib.sha256(b'freshdirect4865219867593').hexdigest())"
   ]
  },
  {
   "cell_type": "code",
   "execution_count": 15,
   "metadata": {},
   "outputs": [
    {
     "data": {
      "text/plain": [
       "mappingproxy({'__module__': '__main__',\n",
       "              'x': 3,\n",
       "              'y': 4,\n",
       "              '__dict__': <attribute '__dict__' of 'A' objects>,\n",
       "              '__weakref__': <attribute '__weakref__' of 'A' objects>,\n",
       "              '__doc__': None})"
      ]
     },
     "execution_count": 15,
     "metadata": {},
     "output_type": "execute_result"
    }
   ],
   "source": [
    "vars(type(a))"
   ]
  },
  {
   "cell_type": "code",
   "execution_count": 23,
   "metadata": {},
   "outputs": [
    {
     "data": {
      "text/plain": [
       "[3, 4, 20]"
      ]
     },
     "execution_count": 23,
     "metadata": {},
     "output_type": "execute_result"
    }
   ],
   "source": [
    "\n",
    "class A:\n",
    "    x = 3\n",
    "    y = 4\n",
    "    z = 20\n",
    "a = A()\n",
    "\n",
    "def get_object_values(object):\n",
    "    fields = [field for field in vars(type(object)).keys() if not field.startswith(\"__\")]\n",
    "    return [object.__getattribute__(field) for field in fields]\n",
    "\n",
    "get_object_values(a)"
   ]
  },
  {
   "cell_type": "code",
   "execution_count": 24,
   "metadata": {},
   "outputs": [
    {
     "data": {
      "text/plain": [
       "[4, 3]"
      ]
     },
     "execution_count": 24,
     "metadata": {},
     "output_type": "execute_result"
    }
   ],
   "source": [
    "a = [3,4]\n",
    "a.reverse()\n",
    "a"
   ]
  },
  {
   "cell_type": "code",
   "execution_count": 21,
   "metadata": {},
   "outputs": [],
   "source": [
    "from instruction_set import InstructionTypes\n",
    "import pyperclip\n",
    "mnemonics = [f\"\\t'{x.mnemonic}': {x.mnemonic},\" for x in InstructionTypes]\n",
    "pyperclip.copy('\\n'.join(mnemonics))\n"
   ]
  },
  {
   "cell_type": "code",
   "execution_count": 5,
   "metadata": {},
   "outputs": [
    {
     "ename": "FrozenInstanceError",
     "evalue": "cannot assign to field 'x'",
     "output_type": "error",
     "traceback": [
      "\u001b[1;31m---------------------------------------------------------------------------\u001b[0m",
      "\u001b[1;31mFrozenInstanceError\u001b[0m                       Traceback (most recent call last)",
      "Cell \u001b[1;32mIn[5], line 8\u001b[0m\n\u001b[0;32m      3\u001b[0m \u001b[38;5;129m@dataclass\u001b[39m(frozen\u001b[38;5;241m=\u001b[39m\u001b[38;5;28;01mTrue\u001b[39;00m)\n\u001b[0;32m      4\u001b[0m \u001b[38;5;28;01mclass\u001b[39;00m \u001b[38;5;21;01mA\u001b[39;00m:\n\u001b[0;32m      5\u001b[0m     x: \u001b[38;5;28mint\u001b[39m \u001b[38;5;241m=\u001b[39m \u001b[38;5;241m3\u001b[39m\n\u001b[1;32m----> 8\u001b[0m \u001b[43mA\u001b[49m\u001b[43m(\u001b[49m\u001b[43m)\u001b[49m\u001b[38;5;241;43m.\u001b[39;49m\u001b[43mx\u001b[49m \u001b[38;5;241m=\u001b[39m \u001b[38;5;241m5\u001b[39m\n",
      "File \u001b[1;32m<string>:4\u001b[0m, in \u001b[0;36m__setattr__\u001b[1;34m(self, name, value)\u001b[0m\n",
      "\u001b[1;31mFrozenInstanceError\u001b[0m: cannot assign to field 'x'"
     ]
    }
   ],
   "source": [
    "from dataclasses import dataclass\n",
    "\n",
    "@dataclass(frozen=True)\n",
    "class A:\n",
    "    x: int = 3\n",
    "\n",
    "\n",
    "A().x = 5"
   ]
  },
  {
   "cell_type": "code",
   "execution_count": 22,
   "metadata": {},
   "outputs": [
    {
     "data": {
      "text/plain": [
       "'0000000a'"
      ]
     },
     "execution_count": 22,
     "metadata": {},
     "output_type": "execute_result"
    }
   ],
   "source": [
    "'a'.zfill(8)"
   ]
  },
  {
   "cell_type": "code",
   "execution_count": 19,
   "metadata": {},
   "outputs": [
    {
     "name": "stdout",
     "output_type": "stream",
     "text": [
      "RAM: 0x0 to 0x3fff\n",
      "VIA: 0x6000 to 0x7fff\n",
      "ROM: 0x8000 to 0xffff\n"
     ]
    }
   ],
   "source": [
    "\n",
    "\n",
    "\n",
    "def print_memory_range(top_bytes, name):\n",
    "    n_bits = 16\n",
    "    n_extra_bits = n_bits - len(top_bytes)\n",
    "    binary_string_low = f\"0b{top_bytes}{'0'*n_extra_bits}\"\n",
    "    binary_string_high = f\"0b{top_bytes}{'1'*n_extra_bits}\"\n",
    "    hex_low = hex(int(binary_string_low, 2))\n",
    "    hex_high = hex(int(binary_string_high, 2))\n",
    "    print(f\"{name}: {hex_low} to {hex_high}\")\n",
    "\n",
    "print_memory_range(\"00\",\"RAM\")\n",
    "print_memory_range(\"011\",\"VIA\")\n",
    "print_memory_range(\"1\",\"ROM\")"
   ]
  },
  {
   "cell_type": "code",
   "execution_count": 8,
   "metadata": {},
   "outputs": [
    {
     "name": "stdout",
     "output_type": "stream",
     "text": [
      "This is a 115 string with 113 text.\n"
     ]
    }
   ],
   "source": [
    "import re\n",
    "\n",
    "def modify_text_in_quotes(input_string):\n",
    "    # Define a regex pattern to match text within single or double quotes\n",
    "    quote_enclosed_regex = r'[\"\\'](.*?)[\"\\']'  # Matches text within ' or \"\n",
    "\n",
    "    # Function to apply the operation on the matched text\n",
    "    def get_ascii_value(match):\n",
    "        text_in_quotes = match.group(1)  # Extract the text within quotes\n",
    "        return f'{ord(text_in_quotes)}'\n",
    "\n",
    "    modified_string = re.sub(quote_enclosed_regex, get_ascii_value, input_string)\n",
    "\n",
    "    return modified_string\n",
    "\n",
    "# Example input string\n",
    "input_str = 'This is a \"s\" string with \"q\" text.'\n",
    "\n",
    "# Apply the function\n",
    "modified_str = modify_text_in_quotes(input_str)\n",
    "\n",
    "print(modified_str)\n"
   ]
  },
  {
   "cell_type": "code",
   "execution_count": 13,
   "metadata": {},
   "outputs": [
    {
     "name": "stdout",
     "output_type": "stream",
     "text": [
      "00000001\n",
      "11111111\n"
     ]
    }
   ],
   "source": [
    "\n",
    "\n",
    "def print_bin(value):\n",
    "    print(bin(value)[2:].zfill(8))\n",
    "\n",
    "\n",
    "x = -1\n",
    "\n",
    "print_bin(-x)\n",
    "print_bin(256+x)"
   ]
  },
  {
   "cell_type": "code",
   "execution_count": 15,
   "metadata": {},
   "outputs": [
    {
     "data": {
      "text/plain": [
       "'0x68'"
      ]
     },
     "execution_count": 15,
     "metadata": {},
     "output_type": "execute_result"
    }
   ],
   "source": [
    "hex(104)"
   ]
  },
  {
   "cell_type": "code",
   "execution_count": 15,
   "metadata": {},
   "outputs": [
    {
     "name": "stdout",
     "output_type": "stream",
     "text": [
      "\"hi                                      world\"\n"
     ]
    }
   ],
   "source": [
    "chars_per_line = 40\n",
    "message1 = \"hi\"\n",
    "message2 = \"world\"\n",
    "\n",
    "pad_count = chars_per_line - len(message1)\n",
    "line1 = message1 + \" \"*pad_count\n",
    "line2 = message2\n",
    "full_message = f'\"{line1}{line2}\"'\n",
    "print(full_message)\n",
    "import pyperclip\n",
    "pyperclip.copy(full_message)"
   ]
  },
  {
   "cell_type": "code",
   "execution_count": 18,
   "metadata": {},
   "outputs": [
    {
     "data": {
      "text/plain": [
       "'0x80'"
      ]
     },
     "execution_count": 18,
     "metadata": {},
     "output_type": "execute_result"
    }
   ],
   "source": [
    "hex(128)"
   ]
  },
  {
   "cell_type": "code",
   "execution_count": 13,
   "metadata": {},
   "outputs": [
    {
     "name": "stdout",
     "output_type": "stream",
     "text": [
      "#define SHIFT_DATA 2\n",
      "#define SHIFT_CLK 3\n",
      "#define SHIFT_LATCH 4\n",
      "#define EEPROM_D0 5\n",
      "#define EEPROM_D7 12\n",
      "#define WRITE_EN 13\n",
      "\n",
      "/*\n",
      " * Output the address bits and outputEnable signal using shift registers.\n",
      " */\n",
      "void setAddress(int address, bool outputEnable) {\n",
      "  shiftOut(SHIFT_DATA, SHIFT_CLK, MSBFIRST, (address >> 8) | (outputEnable ? 0x00 : 0x80));\n",
      "  shiftOut(SHIFT_DATA, SHIFT_CLK, MSBFIRST, address);\n",
      "\n",
      "  digitalWrite(SHIFT_LATCH, LOW);\n",
      "  digitalWrite(SHIFT_LATCH, HIGH);\n",
      "  digitalWrite(SHIFT_LATCH, LOW);\n",
      "}\n",
      "\n",
      "\n",
      "/*\n",
      " * Read a byte from the EEPROM at the specified address.\n",
      " */\n",
      "byte readEEPROM(int address) {\n",
      "  for (int pin = EEPROM_D0; pin <= EEPROM_D7; pin += 1) {\n",
      "    pinMode(pin, INPUT);\n",
      "  }\n",
      "  setAddress(address, /*outputEnable*/ true);\n",
      "\n",
      "  byte data = 0;\n",
      "  for (int pin = EEPROM_D7; pin >= EEPROM_D0; pin -= 1) {\n",
      "    data = (data << 1) + digitalRead(pin);\n",
      "  }\n",
      "  return data;\n",
      "}\n",
      "\n",
      "\n",
      "/*\n",
      " * Write a byte to the EEPROM at the specified address.\n",
      " */\n",
      "void writeEEPROM(int address, byte data) {\n",
      "  setAddress(address, /*outputEnable*/ false);\n",
      "  for (int pin = EEPROM_D0; pin <= EEPROM_D7; pin += 1) {\n",
      "    pinMode(pin, OUTPUT);\n",
      "  }\n",
      "\n",
      "  for (int pin = EEPROM_D0; pin <= EEPROM_D7; pin += 1) {\n",
      "    digitalWrite(pin, data & 1);\n",
      "    data = data >> 1;\n",
      "  }\n",
      "  digitalWrite(WRITE_EN, LOW);\n",
      "  delayMicroseconds(1);\n",
      "  digitalWrite(WRITE_EN, HIGH);\n",
      "  delay(10);\n",
      "}\n",
      "\n",
      "\n",
      "/*\n",
      " * Read the contents of the EEPROM and print them to the serial monitor.\n",
      " */\n",
      "void printContents() {\n",
      "  for (int base = 0; base <= 1; base += 16) {\n",
      "    byte data[16];\n",
      "    for (int offset = 0; offset <= 15; offset += 1) {\n",
      "      data[offset] = readEEPROM(base + offset);\n",
      "    }\n",
      "\n",
      "    char buf[80];\n",
      "    sprintf(buf, \"%03x:  %02x %02x %02x %02x %02x %02x %02x %02x   %02x %02x %02x %02x %02x %02x %02x %02x\",\n",
      "            base, data[0], data[1], data[2], data[3], data[4], data[5], data[6], data[7],\n",
      "            data[8], data[9], data[10], data[11], data[12], data[13], data[14], data[15]);\n",
      "\n",
      "    Serial.println(buf);\n",
      "  }\n",
      "}\n",
      "\n",
      "\n",
      "// 4-bit hex decoder for common anode 7-segment display\n",
      "// byte data[] = { 0x81, 0xcf, 0x92, 0x86, 0xcc, 0xa4, 0xa0, 0x8f, 0x80, 0x84, 0x88, 0xe0, 0xb1, 0xc2, 0xb0, 0xb8 };\n",
      "\n",
      "// 4-bit hex decoder for common cathode 7-segment display\n",
      "// byte data[] = { 0x7e, 0x30, 0x6d, 0x79, 0x33, 0x5b, 0x5f, 0x70, 0x7f, 0x7b, 0x77, 0x1f, 0x4e, 0x3d, 0x4f, 0x47 };\n",
      "\n",
      "\n",
      "void setup() {\n",
      "  // put your setup code here, to run once:\n",
      "  pinMode(SHIFT_DATA, OUTPUT);\n",
      "  pinMode(SHIFT_CLK, OUTPUT);\n",
      "  pinMode(SHIFT_LATCH, OUTPUT);\n",
      "  digitalWrite(WRITE_EN, HIGH);\n",
      "  pinMode(WRITE_EN, OUTPUT);\n",
      "  Serial.begin(57600);\n",
      "\n",
      "  // // Erase entire EEPROM\n",
      "  // Serial.print(\"Erasing EEPROM\");\n",
      "  // for (int address = 0; address <= 2047; address += 1) {\n",
      "  //   writeEEPROM(address, 0xff);\n",
      "\n",
      "  //   if (address % 64 == 0) {\n",
      "  //     Serial.print(\".\");\n",
      "  //   }\n",
      "  // }\n",
      "  // Serial.println(\" done\");\n",
      "\n",
      "\n",
      "\n",
      "\n",
      "\n",
      "\n",
      "    byte nop = 0xea;\n",
      "    byte jmp = 0x4c;\n",
      "    byte lda_im = 0xa9;\n",
      "    byte lda_abs = 0xad;\n",
      "    byte sta_abs = 0x8d;\n",
      "    byte adc_im = 0x69;\n",
      "    byte adc_abs = 0x6d;\n",
      "    byte push = 0x48;\n",
      "    byte pull = 0x68;\n",
      "    byte ror_acc = 0x6a;\n",
      "    byte rol_acc = 0x2a;\n",
      "\n",
      "  byte data[] = {\n",
      "    lda_im, 0xff,\n",
      "    sta_abs, 0x02, 0x60,\n",
      "    \n",
      "    lda_im, 0x55,\n",
      "    sta_abs, 0x00, 0x60,\n",
      "\n",
      "    lda_im, 0xaa,\n",
      "    sta_abs, 0x00, 0x60,\n",
      "\n",
      "    jmp, 0x05, 0x80\n",
      "  };\n",
      "\n",
      "  // byte data[] = {0xa9,1,1,1,1};\n",
      "\n",
      "  // byte data[] = {nop, nop, nop, nop, nop};\n",
      "\n",
      "  writeEEPROM(0x7ffc, 0);\n",
      "  writeEEPROM(0x7ffd, 0x80);\n",
      "\n",
      "  int n_bytes_to_write = sizeof(data);\n",
      "\n",
      "  Serial.print(\"Programming EEPROM\");\n",
      "  for (int address = 0; address < n_bytes_to_write; address += 1) {\n",
      "    writeEEPROM(address, data[address]);\n",
      "\n",
      "    if (address % 64 == 0) {\n",
      "      Serial.print(\".\");\n",
      "    }\n",
      "  }\n",
      "  Serial.println(\" done\");\n",
      "\n",
      "\n",
      "  // Read and print out the contents of the EERPROM\n",
      "  Serial.println(\"Reading EEPROM\");\n",
      "  printContents();\n",
      "}\n",
      "\n",
      "\n",
      "void loop() {\n",
      "  // put your main code here, to run repeatedly:\n",
      "\n",
      "}\n"
     ]
    }
   ],
   "source": [
    "with open(r\"C:\\Users\\Ephraim\\Documents\\Arduino\\eeprom\\eeprom.ino\") as f:\n",
    "    print(f.read())"
   ]
  },
  {
   "cell_type": "code",
   "execution_count": null,
   "metadata": {},
   "outputs": [],
   "source": [
    "import subprocess\n",
    "\n",
    "# Define the executable and arguments\n",
    "executable = 'your_executable.exe'  # Replace with your executable's path\n",
    "arguments = ['arg1', 'arg2', 'arg3']  # Replace with your arguments\n",
    "\n",
    "# Run the executable with the arguments\n",
    "try:\n",
    "    result = subprocess.run(\n",
    "        [executable] + arguments,  # Combine executable and arguments\n",
    "        check=True,                 # Raise an error if the command fails\n",
    "        stdout=subprocess.PIPE,     # Capture standard output\n",
    "        stderr=subprocess.PIPE       # Capture standard error\n",
    "    )\n",
    "    \n",
    "    # Print the output and error (if any)\n",
    "    print(\"Output:\", result.stdout.decode())\n",
    "    print(\"Error:\", result.stderr.decode())\n",
    "\n",
    "except subprocess.CalledProcessError as e:\n",
    "    print(f\"An error occurred: {e.stderr.decode()}\")\n"
   ]
  }
 ],
 "metadata": {
  "kernelspec": {
   "display_name": "Python 3",
   "language": "python",
   "name": "python3"
  },
  "language_info": {
   "codemirror_mode": {
    "name": "ipython",
    "version": 3
   },
   "file_extension": ".py",
   "mimetype": "text/x-python",
   "name": "python",
   "nbconvert_exporter": "python",
   "pygments_lexer": "ipython3",
   "version": "3.11.3"
  }
 },
 "nbformat": 4,
 "nbformat_minor": 2
}
